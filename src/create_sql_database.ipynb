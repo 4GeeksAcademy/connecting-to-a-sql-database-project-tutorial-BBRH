{
 "cells": [
  {
   "cell_type": "markdown",
   "id": "9e83a9b9",
   "metadata": {},
   "source": [
    "# Create SQL DataBase Explore"
   ]
  },
  {
   "cell_type": "code",
   "execution_count": 1,
   "id": "398cba0d",
   "metadata": {},
   "outputs": [],
   "source": [
    "import os\n",
    "import pandas as pd\n",
    "from sqlalchemy import create_engine, text\n",
    "from dotenv import load_dotenv"
   ]
  },
  {
   "cell_type": "code",
   "execution_count": 3,
   "id": "98267a18",
   "metadata": {},
   "outputs": [
    {
     "name": "stdout",
     "output_type": "stream",
     "text": [
      "Starting the connection...\n",
      "Connected successfully!\n"
     ]
    }
   ],
   "source": [
    "load_dotenv\n",
    "connection_string = f\"postgresql://{os.getenv('DB_USER')}:{os.getenv('DB_PASSWORD')}@{os.getenv('DB_HOST')}/{os.getenv('DB_NAME')}\"\n",
    "print(\"Starting the connection...\")\n",
    "engine = create_engine(connection_string, isolation_level=\"AUTOCOMMIT\")\n",
    "engine.connect()\n",
    "print(\"Connected successfully!\")"
   ]
  }
 ],
 "metadata": {
  "kernelspec": {
   "display_name": "Python 3",
   "language": "python",
   "name": "python3"
  },
  "language_info": {
   "codemirror_mode": {
    "name": "ipython",
    "version": 3
   },
   "file_extension": ".py",
   "mimetype": "text/x-python",
   "name": "python",
   "nbconvert_exporter": "python",
   "pygments_lexer": "ipython3",
   "version": "3.12.10"
  }
 },
 "nbformat": 4,
 "nbformat_minor": 5
}
